{
 "cells": [
  {
   "cell_type": "code",
   "execution_count": 3,
   "id": "6b97b24e-aa17-470c-a9d8-03f1aac633b5",
   "metadata": {},
   "outputs": [],
   "source": [
    "import numpy as np"
   ]
  },
  {
   "cell_type": "code",
   "execution_count": 1,
   "id": "33381e83-a334-42f9-b1e7-d7a94ceb3a29",
   "metadata": {},
   "outputs": [],
   "source": [
    "a = [1, 2, 3]"
   ]
  },
  {
   "cell_type": "code",
   "execution_count": 1,
   "id": "8b42a27b-c67e-484d-81fa-de1c49df56ce",
   "metadata": {},
   "outputs": [
    {
     "name": "stdin",
     "output_type": "stream",
     "text": [
      "masukkan angka1=  10\n",
      "masukkan operator=  -\n",
      "masukkan angka2=  10\n"
     ]
    },
    {
     "name": "stdout",
     "output_type": "stream",
     "text": [
      "Hasil dari 10 - 10 adalah 0\n"
     ]
    }
   ],
   "source": [
    "def calc(a,b,c):\n",
    "    if (a.isnumeric() == True) and (c.isnumeric() == True) :\n",
    "        a = int(a)\n",
    "        c = int(c)\n",
    "        if b == 'x' :\n",
    "            print('Hasil dari', a, b, c, 'adalah', a*c)\n",
    "        elif b == '+' :\n",
    "            print('Hasil dari', a, b, c, 'adalah', a+c)\n",
    "        elif b == ':' :\n",
    "            print('Hasil dari', a, b, c, 'adalah', a/c)\n",
    "        elif b == \"-\" :\n",
    "            print('Hasil dari', a, b, c, 'adalah', a - c)\n",
    "        elif b == \"^\" :\n",
    "            print('Hasil dari', a, b, c, 'adalah', a**c)\n",
    "        else :\n",
    "            print('operator', b, 'tidak ditemukan')\n",
    "    else :\n",
    "        print('salah')\n",
    "\n",
    "a = (input('masukkan angka1= '))\n",
    "b = (input('masukkan operator= '))\n",
    "c = (input('masukkan angka2= '))\n",
    "\n",
    "calc(a,b,c)"
   ]
  },
  {
   "cell_type": "markdown",
   "id": "b7da6f4d",
   "metadata": {},
   "source": [
    "## Indexing & slicing "
   ]
  },
  {
   "cell_type": "code",
   "execution_count": 2,
   "id": "f1a7f655",
   "metadata": {},
   "outputs": [
    {
     "data": {
      "text/plain": [
       "[4, 5, 6, 7, 8, 9.1]"
      ]
     },
     "execution_count": 2,
     "metadata": {},
     "output_type": "execute_result"
    }
   ],
   "source": [
    "array_1 = [1,2,3,4,5,6,7,8,9.10]\n",
    "array_1[3:]"
   ]
  },
  {
   "cell_type": "code",
   "execution_count": 5,
   "id": "07e014ae",
   "metadata": {},
   "outputs": [
    {
     "data": {
      "text/plain": [
       "(1, 4)"
      ]
     },
     "execution_count": 5,
     "metadata": {},
     "output_type": "execute_result"
    }
   ],
   "source": [
    "import numpy as np\n",
    "array_3 = np.array([[1,2,3,4]])\n",
    "array_4 = np.array([[5,6,7,8]])\n",
    "array_3.shape"
   ]
  },
  {
   "cell_type": "code",
   "execution_count": 6,
   "id": "99b2b587",
   "metadata": {},
   "outputs": [
    {
     "name": "stdout",
     "output_type": "stream",
     "text": [
      "(3, 1)\n"
     ]
    }
   ],
   "source": [
    "#np.newaxis\n",
    "array_4 = np.array([4,5,6])\n",
    "array_4[np.newaxis]\n",
    "print(array_4[:,np.newaxis].shape)"
   ]
  },
  {
   "cell_type": "code",
   "execution_count": 10,
   "id": "e670dc3f",
   "metadata": {},
   "outputs": [
    {
     "data": {
      "text/plain": [
       "array([1, 2, 3, 4, 5, 5, 6, 7, 8])"
      ]
     },
     "execution_count": 10,
     "metadata": {},
     "output_type": "execute_result"
    }
   ],
   "source": [
    "array_5 = np.array([1,2,3,4,5])\n",
    "array_6 = np.array([5,6,7,8])\n",
    "np.hstack([array_5,array_6])"
   ]
  },
  {
   "cell_type": "code",
   "execution_count": 12,
   "id": "1b4c0118",
   "metadata": {},
   "outputs": [
    {
     "name": "stdout",
     "output_type": "stream",
     "text": [
      "[[3]\n",
      " [4]\n",
      " [5]\n",
      " [6]\n",
      " [7]\n",
      " [8]\n",
      " [9]]\n",
      "(7, 1)\n",
      "[[3 4 5 6 7 8 9]]\n",
      "(1, 7)\n"
     ]
    }
   ],
   "source": [
    "array_7 = np.array([3,4,5,6,7,8,9])\n",
    "array_8 = np.expand_dims(array_7,axis=1)\n",
    "array_9 = np.expand_dims(array_7,axis=0)\n",
    "print(array_8)\n",
    "print(array_8.shape)\n",
    "print(array_9)\n",
    "print(array_9.shape)"
   ]
  },
  {
   "cell_type": "code",
   "execution_count": 13,
   "id": "799c54b1",
   "metadata": {},
   "outputs": [
    {
     "data": {
      "text/plain": [
       "array([ 5,  6,  7,  8,  9, 10, 11])"
      ]
     },
     "execution_count": 13,
     "metadata": {},
     "output_type": "execute_result"
    }
   ],
   "source": [
    "array_7 = np.array([3,4,5,6,7,8,9])\n",
    "array_7+2"
   ]
  },
  {
   "cell_type": "code",
   "execution_count": 14,
   "id": "a837f223",
   "metadata": {},
   "outputs": [
    {
     "data": {
      "text/plain": [
       "array([ 6,  8, 10, 12, 14, 16, 18])"
      ]
     },
     "execution_count": 14,
     "metadata": {},
     "output_type": "execute_result"
    }
   ],
   "source": [
    "array_7*2"
   ]
  },
  {
   "cell_type": "code",
   "execution_count": 16,
   "id": "33d3b871",
   "metadata": {},
   "outputs": [
    {
     "data": {
      "text/plain": [
       "array([[-3, -2, -1],\n",
       "       [ 0,  1,  2]])"
      ]
     },
     "execution_count": 16,
     "metadata": {},
     "output_type": "execute_result"
    }
   ],
   "source": [
    "array_10 = np.array([[1,2,3],[4,5,6]])\n",
    "array_10-4"
   ]
  },
  {
   "cell_type": "code",
   "execution_count": 4,
   "id": "cdee159b-c701-4ad9-996a-0bf1cb58e133",
   "metadata": {},
   "outputs": [
    {
     "name": "stdout",
     "output_type": "stream",
     "text": [
      "1\n",
      "2\n",
      "13\n",
      "4\n",
      "[[1 2 3 4]\n",
      " [3 2 1 5]\n",
      " [6 7 8 9]]\n"
     ]
    }
   ],
   "source": [
    "c = np.array([1,2,3,4,3,2,1,5,6,7,8,9,10])\n",
    "d = np.zeros((2,2))\n",
    "#ndim\n",
    "print(c.ndim)\n",
    "print(d.ndim)\n",
    "\n",
    "#size\n",
    "print(c.size)\n",
    "print(d.size)\n",
    "\n",
    "#reshape\n",
    "print(c[:-1].reshape(3,4))"
   ]
  },
  {
   "cell_type": "markdown",
   "id": "85668fca",
   "metadata": {},
   "source": [
    "## Filtering Array"
   ]
  },
  {
   "cell_type": "code",
   "execution_count": 21,
   "id": "6f6e3b1c",
   "metadata": {},
   "outputs": [
    {
     "name": "stdout",
     "output_type": "stream",
     "text": [
      "[6 7 8 9]\n",
      "[5]\n",
      "[3 4]\n"
     ]
    }
   ],
   "source": [
    "array_7 = np.array([3,4,5,6,7,8,9])\n",
    "print(array_7[array_7>5])\n",
    "print(array_7[array_7==5])\n",
    "print(array_7[array_7<=4])"
   ]
  },
  {
   "cell_type": "code",
   "execution_count": 33,
   "id": "4ebc64ea",
   "metadata": {},
   "outputs": [
    {
     "name": "stdout",
     "output_type": "stream",
     "text": [
      "How Tall?  8\n",
      "***************\n",
      " *************\n",
      "  ***********\n",
      "   *********\n",
      "    *******\n",
      "     *****\n",
      "      ***\n",
      "       *\n",
      "      ***\n",
      "     *****\n",
      "    *******\n",
      "   *********\n",
      "  ***********\n",
      " *************\n",
      "***************\n"
     ]
    }
   ],
   "source": [
    "def bintang(baris):\n",
    "    kolom = baris *2 -1\n",
    "    spasi = 0\n",
    "    hasil = \"\"\n",
    "    for i in range(baris):\n",
    "        for j in range(spasi):\n",
    "            hasil += \" \"\n",
    "        for j in range(kolom):\n",
    "            if i == 0:\n",
    "                simbol = \"*\"\n",
    "            elif i == baris -1:\n",
    "                simbol =  \"*\"\n",
    "            elif j == 0 or j == kolom -1 :\n",
    "                simbol = \"*\"\n",
    "            else :\n",
    "                simbol = \"*\"\n",
    "            hasil += simbol\n",
    "        kolom -= 2\n",
    "        spasi += 1\n",
    "        if baris ==1 :\n",
    "            hasil += \"\"\n",
    "        else:\n",
    "            hasil += \"\\n\"\n",
    "    baris = baris -1\n",
    "    kolom = 3\n",
    "    spasi = baris -1\n",
    "    for i in range(baris):\n",
    "        for j in range(spasi):\n",
    "            hasil += \" \"\n",
    "        for j in range(kolom):\n",
    "            if j == 0 or j == kolom -1:\n",
    "                simbol = \"*\"\n",
    "            elif i == baris -1:\n",
    "                simbol = \"*\"\n",
    "            else :\n",
    "                simbol = \"*\"\n",
    "            hasil += simbol\n",
    "        kolom += 2\n",
    "        spasi -= 1\n",
    "        if i != baris -1:\n",
    "            hasil += \"\\n\"\n",
    "        else :\n",
    "            hasil+=\"\"\n",
    "    return hasil\n",
    "ok = int(input(\"How Tall?  \"))\n",
    "print (bintang(ok))"
   ]
  },
  {
   "cell_type": "markdown",
   "id": "7165ecda",
   "metadata": {},
   "source": [
    "## hstack, vstack, hsplit, vsplit"
   ]
  },
  {
   "cell_type": "code",
   "execution_count": 35,
   "id": "7648be81",
   "metadata": {},
   "outputs": [
    {
     "name": "stdout",
     "output_type": "stream",
     "text": [
      "secara vertikal\n",
      "[[ 3  4  5  6  7]\n",
      " [ 7  8  9 10 11]]\n",
      "secara horizontal\n",
      "[ 3  4  5  6  7  7  8  9 10 11]\n"
     ]
    }
   ],
   "source": [
    "#stack\n",
    "array_14 = np.array([3,4,5,6,7])\n",
    "array_15 = np.array([7,8,9,10,11])\n",
    "print('secara vertikal')\n",
    "print(np.vstack([array_14,array_15]))\n",
    "print('secara horizontal')\n",
    "print(np.hstack([array_14,array_15]))"
   ]
  },
  {
   "cell_type": "code",
   "execution_count": 37,
   "id": "dfb26d94",
   "metadata": {},
   "outputs": [
    {
     "data": {
      "text/plain": [
       "[array([3, 4, 5]), array([6, 7, 8])]"
      ]
     },
     "execution_count": 37,
     "metadata": {},
     "output_type": "execute_result"
    }
   ],
   "source": [
    "#split\n",
    "array_16 = np.array([3,4,5,6,7,8])\n",
    "array_split = np.hsplit(array_16,2)\n",
    "(array_split)"
   ]
  },
  {
   "cell_type": "code",
   "execution_count": 39,
   "id": "07cef11e",
   "metadata": {},
   "outputs": [
    {
     "name": "stdout",
     "output_type": "stream",
     "text": [
      "[[1 2 3 4]\n",
      " [4 5 6 7]]\n",
      "horizontal split\n",
      "[array([[1, 2],\n",
      "       [4, 5]]), array([[3, 4],\n",
      "       [6, 7]])]\n",
      "vertikal split\n",
      "[array([[1, 2, 3, 4]]), array([[4, 5, 6, 7]])]\n"
     ]
    }
   ],
   "source": [
    "#vsplit\n",
    "array_19 = np.array([[1,2,3,4],[4,5,6,7]])\n",
    "print(array_19)\n",
    "print('horizontal split')\n",
    "print(np.hsplit(array_19,2))\n",
    "print('vertikal split')\n",
    "print(np.vsplit(array_19,2))"
   ]
  },
  {
   "cell_type": "code",
   "execution_count": 42,
   "id": "40233c04",
   "metadata": {},
   "outputs": [
    {
     "name": "stdout",
     "output_type": "stream",
     "text": [
      "[4 6 8]\n"
     ]
    }
   ],
   "source": [
    "array_a = np.array([1,2,3])\n",
    "array_b = np.array([3,4,5])\n",
    "print(array_a+array_b)"
   ]
  },
  {
   "cell_type": "code",
   "execution_count": 45,
   "id": "62e2a52c",
   "metadata": {},
   "outputs": [
    {
     "name": "stdout",
     "output_type": "stream",
     "text": [
      "[[-5 -5 -5]\n",
      " [-5 -5 -5]]\n"
     ]
    }
   ],
   "source": [
    "array_c = np.array([[1,2,3],[4,5,6]])\n",
    "array_d = np.array([[6,7,8],[9,10,11]])\n",
    "print(array_c-array_d)"
   ]
  },
  {
   "cell_type": "code",
   "execution_count": 48,
   "id": "d25c5c87",
   "metadata": {},
   "outputs": [
    {
     "name": "stdout",
     "output_type": "stream",
     "text": [
      "3\n",
      "6\n",
      "[[1 2 3]\n",
      " [4 5 6]]\n",
      "[4 5 6]\n",
      "[1 2 3]\n"
     ]
    }
   ],
   "source": [
    "print(array_a.max())\n",
    "print(array_c.max())\n",
    "print(array_c)\n",
    "print(array_c.max(axis=0))\n",
    "print(array_c.min(axis=0))"
   ]
  },
  {
   "cell_type": "markdown",
   "id": "20dda60f",
   "metadata": {},
   "source": [
    "## Transpos"
   ]
  },
  {
   "cell_type": "code",
   "execution_count": 51,
   "id": "8d2af560",
   "metadata": {},
   "outputs": [
    {
     "name": "stdout",
     "output_type": "stream",
     "text": [
      "[[5 2 3]\n",
      " [4 5 6]]\n",
      "(2, 3)\n",
      "(3, 2)\n"
     ]
    }
   ],
   "source": [
    "array_e = np.array([[5,2,3],[4,5,6]])\n",
    "print(array_e)\n",
    "print(array_e.shape)\n",
    "print(array_e.T.shape)"
   ]
  },
  {
   "cell_type": "code",
   "execution_count": 52,
   "id": "a8baee2e",
   "metadata": {},
   "outputs": [
    {
     "name": "stdout",
     "output_type": "stream",
     "text": [
      "[[5 4]\n",
      " [2 5]\n",
      " [3 6]]\n",
      "(3, 2)\n"
     ]
    }
   ],
   "source": [
    "print(array_e.T)\n",
    "print(array_e.T.shape)"
   ]
  },
  {
   "cell_type": "code",
   "execution_count": 55,
   "id": "d0c3e8d9",
   "metadata": {},
   "outputs": [
    {
     "name": "stdout",
     "output_type": "stream",
     "text": [
      "[[ 9.51722358 53.13713176]\n",
      " [51.08884177  4.96295303]\n",
      " [39.45369824  1.08565146]]\n"
     ]
    }
   ],
   "source": [
    "array_random = np.random.random([3,2])*100\n",
    "print(array_random)"
   ]
  },
  {
   "cell_type": "code",
   "execution_count": 56,
   "id": "2761f2c6",
   "metadata": {},
   "outputs": [
    {
     "name": "stdout",
     "output_type": "stream",
     "text": [
      "[[98.01470218 54.29348205]\n",
      " [76.68514769 33.83400419]\n",
      " [12.30354401 31.97523121]]\n",
      "[98.01470218 54.29348205 76.68514769 33.83400419 12.30354401 31.97523121]\n"
     ]
    }
   ],
   "source": [
    "array_random = np.random.random([3,2])*100\n",
    "print(array_random)\n",
    "print(array_random.flatten())"
   ]
  },
  {
   "cell_type": "markdown",
   "id": "f63dbc89",
   "metadata": {},
   "source": [
    "## Numpy Math Formulas"
   ]
  },
  {
   "cell_type": "code",
   "execution_count": 58,
   "id": "2cd66817",
   "metadata": {},
   "outputs": [
    {
     "name": "stdout",
     "output_type": "stream",
     "text": [
      "[[24.2394126  68.84511559]\n",
      " [93.69407489 30.96441768]\n",
      " [33.06532154  2.2435325 ]]\n"
     ]
    },
    {
     "data": {
      "text/plain": [
       "253.05187480159302"
      ]
     },
     "execution_count": 58,
     "metadata": {},
     "output_type": "execute_result"
    }
   ],
   "source": [
    "array_random = np.random.random([3,2])*100\n",
    "print(array_random)\n",
    "np.sum(array_random)"
   ]
  },
  {
   "cell_type": "code",
   "execution_count": 59,
   "id": "fe788c9a",
   "metadata": {},
   "outputs": [
    {
     "data": {
      "text/plain": [
       "81"
      ]
     },
     "execution_count": 59,
     "metadata": {},
     "output_type": "execute_result"
    }
   ],
   "source": [
    "np.square(9)"
   ]
  },
  {
   "cell_type": "code",
   "execution_count": 60,
   "id": "55f9e0d1",
   "metadata": {},
   "outputs": [
    {
     "data": {
      "text/plain": [
       "3.0"
      ]
     },
     "execution_count": 60,
     "metadata": {},
     "output_type": "execute_result"
    }
   ],
   "source": [
    "np.sqrt(9)"
   ]
  },
  {
   "cell_type": "code",
   "execution_count": 61,
   "id": "0173ebc6",
   "metadata": {},
   "outputs": [
    {
     "name": "stdout",
     "output_type": "stream",
     "text": [
      "13.815510557964274\n"
     ]
    }
   ],
   "source": [
    "a = np.log(1000000)\n",
    "print(a)"
   ]
  },
  {
   "cell_type": "code",
   "execution_count": 6,
   "id": "7619c54f-e62a-433d-a967-464798980274",
   "metadata": {},
   "outputs": [
    {
     "data": {
      "text/plain": [
       "array([[2.12199579e-314, 0.00000000e+000],\n",
       "       [5.37543423e-321, 3.79442416e-321]])"
      ]
     },
     "execution_count": 6,
     "metadata": {},
     "output_type": "execute_result"
    }
   ],
   "source": [
    "np.empty((2,2))"
   ]
  },
  {
   "cell_type": "code",
   "execution_count": 62,
   "id": "08ff2569",
   "metadata": {},
   "outputs": [
    {
     "data": {
      "text/plain": [
       "999999.9999999995"
      ]
     },
     "execution_count": 62,
     "metadata": {},
     "output_type": "execute_result"
    }
   ],
   "source": [
    "np.exp(a)"
   ]
  },
  {
   "cell_type": "markdown",
   "id": "9b92a0a2",
   "metadata": {},
   "source": [
    "## Prime Number Generator Based on Interval\n"
   ]
  },
  {
   "cell_type": "code",
   "execution_count": 76,
   "id": "d064b090",
   "metadata": {},
   "outputs": [
    {
     "name": "stdout",
     "output_type": "stream",
     "text": [
      "Masukan angka awal: 1\n",
      "Masukan angka akhir: 10\n",
      "[1, 2, 3, 5, 7]\n"
     ]
    }
   ],
   "source": [
    "angka_awal = int(input('Masukan angka awal: '))\n",
    "angka_akhir = int(input('Masukan angka akhir: '))\n",
    " \n",
    "list_angka = [i for i in range(angka_awal, angka_akhir +1 )]\n",
    " \n",
    "bilangan_prima = []\n",
    "for i in list_angka:\n",
    "    if (i==2 or i==3 or i==5 or i==7) or (i%2 != 0 and i%3 != 0 and i%5 != 0 and i%7 != 0):\n",
    "        bilangan_prima.append(i)\n",
    " \n",
    "print(bilangan_prima)"
   ]
  },
  {
   "cell_type": "code",
   "execution_count": 80,
   "id": "b02f87cd",
   "metadata": {},
   "outputs": [
    {
     "name": "stdout",
     "output_type": "stream",
     "text": [
      "lower limit : 10\n",
      "upper limit : 20\n",
      "10 sampai 20\n",
      "11\n",
      "13\n",
      "17\n",
      "19\n"
     ]
    }
   ],
   "source": [
    "# Quis 3\n",
    "\n",
    "lower_limit = int(input('lower limit : '))\n",
    "upper_limit = int(input('upper limit : '))\n",
    "print(lower_limit,'sampai', upper_limit) \n",
    "for num in range(lower_limit,upper_limit+1):\n",
    "    if num > 1:\n",
    "        for i in range(2,num):\n",
    "            if (num%i)==0:\n",
    "                break\n",
    "        else:\n",
    "            print(num)"
   ]
  },
  {
   "cell_type": "markdown",
   "id": "691b8090-875d-4976-9c4e-f982237bc89e",
   "metadata": {},
   "source": [
    "## Operasi Arimatik antar 2 Array\n"
   ]
  },
  {
   "cell_type": "code",
   "execution_count": 5,
   "id": "9b1a41af-2df1-4a32-9c8d-0b807580beef",
   "metadata": {},
   "outputs": [
    {
     "name": "stdout",
     "output_type": "stream",
     "text": [
      "3\n",
      "6\n",
      "[[5 2 3]\n",
      " [4 5 6]]\n",
      "[5 5 6]\n",
      "[4 2 3]\n"
     ]
    }
   ],
   "source": [
    "array_a = np.array([1,2,3])\n",
    "array_b = np.array([3,4,5])\n",
    "array_c = np.array([[5,2,3],[4,5,6]])\n",
    "print(array_a.max())\n",
    "print(array_c.max())\n",
    "print(array_c)\n",
    "print(array_c.max(axis=0))\n",
    "print(array_c.min(axis=0))"
   ]
  }
 ],
 "metadata": {
  "kernelspec": {
   "display_name": "Python 3 (ipykernel)",
   "language": "python",
   "name": "python3"
  },
  "language_info": {
   "codemirror_mode": {
    "name": "ipython",
    "version": 3
   },
   "file_extension": ".py",
   "mimetype": "text/x-python",
   "name": "python",
   "nbconvert_exporter": "python",
   "pygments_lexer": "ipython3",
   "version": "3.9.13"
  }
 },
 "nbformat": 4,
 "nbformat_minor": 5
}
